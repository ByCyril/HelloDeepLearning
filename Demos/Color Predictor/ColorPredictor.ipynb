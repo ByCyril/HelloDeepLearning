{
 "cells": [
  {
   "cell_type": "markdown",
   "id": "d0d6477a",
   "metadata": {},
   "source": [
    "# Import Stuff"
   ]
  },
  {
   "cell_type": "code",
   "execution_count": null,
   "id": "a39a8126",
   "metadata": {},
   "outputs": [],
   "source": [
    "import tensorflow as tf\n",
    "import pandas as pd\n",
    "\n",
    "from tensorflow.keras import Sequential\n",
    "from tensorflow.keras.layers import Dense\n",
    "from sklearn.model_selection import train_test_split"
   ]
  },
  {
   "cell_type": "markdown",
   "id": "362e33b1",
   "metadata": {},
   "source": [
    "# Data Preparation"
   ]
  },
  {
   "cell_type": "code",
   "execution_count": null,
   "id": "8e40f663",
   "metadata": {},
   "outputs": [],
   "source": [
    "data = pd.read_csv('rgb_data.csv')\n",
    "\n",
    "colors = list(set(data.label.values))\n",
    "colorDict = {}\n",
    "    \n",
    "for i in range(len(colors)):\n",
    "    color = colors[i]\n",
    "    colorDict[i] = color\n",
    "    data = data.replace(to_replace=color, value=i)\n",
    "\n",
    "Y = []\n",
    "for item in data['label']:\n",
    "    a = [0,0,0,0,0,0,0,0,0,0,0]\n",
    "    a[item] = 1\n",
    "    Y.append(a)\n",
    "\n",
    "y = pd.DataFrame(Y)\n",
    "X = data[['red','green','blue']]\n",
    "x_train, x_test, y_train, y_test = train_test_split(X,y, test_size= 0.20, random_state=27)"
   ]
  },
  {
   "cell_type": "markdown",
   "id": "2343b4fd",
   "metadata": {},
   "source": [
    "# Create the Neural Network Architecture"
   ]
  },
  {
   "cell_type": "code",
   "execution_count": null,
   "id": "1a92d145",
   "metadata": {},
   "outputs": [],
   "source": [
    "model = Sequential()\n",
    "\n",
    "input_layer = Dense(3, activation='relu')\n",
    "hidden_layer1 = Dense(100, activation='relu')\n",
    "hidden_layer2 = Dense(100, activation='relu')\n",
    "hidden_layer3 = Dense(100, activation='relu')\n",
    "output_layer = Dense(11, activation='softmax')\n",
    "\n",
    "for layer in [input_layer, hidden_layer1, hidden_layer2, hidden_layer3, output_layer]:\n",
    "    model.add(layer)"
   ]
  },
  {
   "cell_type": "markdown",
   "id": "0f49f8c7",
   "metadata": {},
   "source": [
    "# Apply the Optimizer and Loss Function"
   ]
  },
  {
   "cell_type": "code",
   "execution_count": null,
   "id": "fb3a63ee",
   "metadata": {},
   "outputs": [],
   "source": [
    "model.compile(optimizer='adam',loss='categorical_crossentropy',metrics=['accuracy'])"
   ]
  },
  {
   "cell_type": "markdown",
   "id": "3c5de1b8",
   "metadata": {},
   "source": [
    "# Fit the Data"
   ]
  },
  {
   "cell_type": "code",
   "execution_count": null,
   "id": "6767430c",
   "metadata": {},
   "outputs": [],
   "source": [
    "model.fit(x_train,y_train, epochs=250, steps_per_epoch=1)"
   ]
  },
  {
   "cell_type": "markdown",
   "id": "a0051370",
   "metadata": {},
   "source": [
    "# Validate the Model"
   ]
  },
  {
   "cell_type": "code",
   "execution_count": null,
   "id": "2d1ce599",
   "metadata": {},
   "outputs": [],
   "source": [
    "model.evaluate(x_test,y_test)"
   ]
  },
  {
   "cell_type": "markdown",
   "id": "6178cb81",
   "metadata": {},
   "source": [
    "# Test it"
   ]
  },
  {
   "cell_type": "code",
   "execution_count": null,
   "id": "df6dabf9",
   "metadata": {},
   "outputs": [],
   "source": []
  }
 ],
 "metadata": {
  "kernelspec": {
   "display_name": "Python 3",
   "language": "python",
   "name": "python3"
  },
  "language_info": {
   "codemirror_mode": {
    "name": "ipython",
    "version": 3
   },
   "file_extension": ".py",
   "mimetype": "text/x-python",
   "name": "python",
   "nbconvert_exporter": "python",
   "pygments_lexer": "ipython3",
   "version": "3.9.4"
  }
 },
 "nbformat": 4,
 "nbformat_minor": 5
}
