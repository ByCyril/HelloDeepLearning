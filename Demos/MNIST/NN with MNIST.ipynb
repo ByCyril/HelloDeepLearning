{
 "cells": [
  {
   "cell_type": "markdown",
   "id": "d9d5ff28",
   "metadata": {},
   "source": [
    "# Import Stuff"
   ]
  },
  {
   "cell_type": "code",
   "execution_count": null,
   "id": "888ce84a",
   "metadata": {},
   "outputs": [],
   "source": [
    "import tensorflow as tf\n",
    "import matplotlib.pyplot as plt\n",
    "import numpy as np\n",
    "\n",
    "from tensorflow.keras.layers import Dense, Flatten\n",
    "from tensorflow.keras import Sequential"
   ]
  },
  {
   "cell_type": "markdown",
   "id": "20ef07e8",
   "metadata": {},
   "source": [
    "# Grab the MNIST Dataset"
   ]
  },
  {
   "cell_type": "code",
   "execution_count": null,
   "id": "9f62a278",
   "metadata": {},
   "outputs": [],
   "source": [
    "mnist = tf.keras.datasets.mnist\n",
    "(training_images, training_labels), (testing_images, testing_labels) = mnist.load_data()"
   ]
  },
  {
   "cell_type": "markdown",
   "id": "ed1466b1",
   "metadata": {},
   "source": [
    "# Reformat the data"
   ]
  },
  {
   "cell_type": "code",
   "execution_count": null,
   "id": "896e7222",
   "metadata": {},
   "outputs": [],
   "source": [
    "training_images = training_images / 255.0\n",
    "testing_images = testing_images / 255.0\n",
    "training_images.shape"
   ]
  },
  {
   "cell_type": "markdown",
   "id": "1ae773d5",
   "metadata": {},
   "source": [
    "# Create the Neural Network Architecture"
   ]
  },
  {
   "cell_type": "code",
   "execution_count": null,
   "id": "de8ecc11",
   "metadata": {},
   "outputs": [],
   "source": [
    "model = Sequential()\n",
    "\n",
    "input_layer = Flatten(input_shape=(28,28))\n",
    "middle_layer = Dense(128, activation='relu')\n",
    "output_layer = Dense(10,activation='softmax')\n",
    "\n",
    "model.add(input_layer)\n",
    "model.add(middle_layer)\n",
    "model.add(output_layer)"
   ]
  },
  {
   "cell_type": "markdown",
   "id": "c67352cd",
   "metadata": {},
   "source": [
    "# Apply the Optimizer and Loss function"
   ]
  },
  {
   "cell_type": "code",
   "execution_count": null,
   "id": "071282ce",
   "metadata": {},
   "outputs": [],
   "source": [
    "model.compile(optimizer='adam', loss='sparse_categorical_crossentropy', metrics=['accuracy'])"
   ]
  },
  {
   "cell_type": "markdown",
   "id": "dbfcf1d7",
   "metadata": {},
   "source": [
    "# Fit the Data"
   ]
  },
  {
   "cell_type": "code",
   "execution_count": null,
   "id": "aa59b0a1",
   "metadata": {},
   "outputs": [],
   "source": [
    "model.fit(training_images, training_labels, epochs=5)"
   ]
  },
  {
   "cell_type": "markdown",
   "id": "e33a3e74",
   "metadata": {},
   "source": [
    "# Evaluate the Model"
   ]
  },
  {
   "cell_type": "code",
   "execution_count": null,
   "id": "abe50908",
   "metadata": {},
   "outputs": [],
   "source": [
    "model.evaluate(testing_images, testing_labels)"
   ]
  },
  {
   "cell_type": "markdown",
   "id": "e02a60f2",
   "metadata": {},
   "source": [
    "# Test it"
   ]
  },
  {
   "cell_type": "code",
   "execution_count": null,
   "id": "d8ff9d1a",
   "metadata": {},
   "outputs": [],
   "source": [
    "plt.imshow(testing_images[5])\n",
    "res = model.predict(np.array([testing_images[5]]))\n",
    "print(\"Prediction:\",np.argmax(res))"
   ]
  }
 ],
 "metadata": {
  "kernelspec": {
   "display_name": "Python 3",
   "language": "python",
   "name": "python3"
  },
  "language_info": {
   "codemirror_mode": {
    "name": "ipython",
    "version": 3
   },
   "file_extension": ".py",
   "mimetype": "text/x-python",
   "name": "python",
   "nbconvert_exporter": "python",
   "pygments_lexer": "ipython3",
   "version": "3.9.4"
  }
 },
 "nbformat": 4,
 "nbformat_minor": 5
}
