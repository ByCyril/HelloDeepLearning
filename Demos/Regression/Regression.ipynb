{
 "cells": [
  {
   "cell_type": "markdown",
   "id": "a05eec91",
   "metadata": {},
   "source": [
    "# Import Stuff"
   ]
  },
  {
   "cell_type": "code",
   "execution_count": null,
   "id": "9ccfd0a5",
   "metadata": {},
   "outputs": [],
   "source": [
    "import tensorflow as tf\n",
    "import matplotlib.pyplot as plt\n",
    "import numpy as np\n",
    "\n",
    "from tensorflow.keras import Sequential\n",
    "from tensorflow.keras.layers import Dense"
   ]
  },
  {
   "cell_type": "markdown",
   "id": "47a17794",
   "metadata": {},
   "source": [
    "# Create dummy data"
   ]
  },
  {
   "cell_type": "code",
   "execution_count": null,
   "id": "d2258adf",
   "metadata": {},
   "outputs": [],
   "source": [
    "x = 4*np.random.random(200)\n",
    "y = (12-2*(x**2)) + x + np.random.normal(5,2,200)\n",
    "\n",
    "plt.scatter(x,y)"
   ]
  },
  {
   "cell_type": "markdown",
   "id": "79e3f46b",
   "metadata": {},
   "source": [
    "# Create the Neural Network"
   ]
  },
  {
   "cell_type": "code",
   "execution_count": null,
   "id": "b8076d2d",
   "metadata": {},
   "outputs": [],
   "source": []
  },
  {
   "cell_type": "markdown",
   "id": "683d2488",
   "metadata": {},
   "source": [
    "# Apply the Optimizer and Loss Function"
   ]
  },
  {
   "cell_type": "code",
   "execution_count": null,
   "id": "a827f686",
   "metadata": {},
   "outputs": [],
   "source": []
  },
  {
   "cell_type": "markdown",
   "id": "439278c2",
   "metadata": {},
   "source": [
    "# Fit the data"
   ]
  },
  {
   "cell_type": "code",
   "execution_count": null,
   "id": "2c2cc043",
   "metadata": {},
   "outputs": [],
   "source": []
  },
  {
   "cell_type": "markdown",
   "id": "fe5dc238",
   "metadata": {},
   "source": [
    "# Plot it"
   ]
  },
  {
   "cell_type": "code",
   "execution_count": null,
   "id": "9a185c36",
   "metadata": {},
   "outputs": [],
   "source": []
  }
 ],
 "metadata": {
  "kernelspec": {
   "display_name": "Python 3",
   "language": "python",
   "name": "python3"
  },
  "language_info": {
   "codemirror_mode": {
    "name": "ipython",
    "version": 3
   },
   "file_extension": ".py",
   "mimetype": "text/x-python",
   "name": "python",
   "nbconvert_exporter": "python",
   "pygments_lexer": "ipython3",
   "version": "3.9.4"
  }
 },
 "nbformat": 4,
 "nbformat_minor": 5
}
