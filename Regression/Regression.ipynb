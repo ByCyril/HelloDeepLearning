{
 "cells": [
  {
   "cell_type": "code",
   "execution_count": 1,
   "id": "9ccfd0a5",
   "metadata": {},
   "outputs": [],
   "source": [
    "import tensorflow as tf\n",
    "from tensorflow import keras\n",
    "from tensorflow.keras import Sequential\n",
    "from tensorflow.keras.layers import Dense\n",
    "import matplotlib.pyplot as plt\n",
    "import numpy as np"
   ]
  },
  {
   "cell_type": "code",
   "execution_count": 112,
   "id": "d2258adf",
   "metadata": {},
   "outputs": [
    {
     "data": {
      "text/plain": [
       "<matplotlib.collections.PathCollection at 0x181bf68e0>"
      ]
     },
     "execution_count": 112,
     "metadata": {},
     "output_type": "execute_result"
    },
    {
     "data": {
      "image/png": "[encoded data removed]",
      "text/plain": [
       "<Figure size 432x288 with 1 Axes>"
      ]
     },
     "metadata": {
      "needs_background": "light"
     },
     "output_type": "display_data"
    }
   ],
   "source": [
    "x = 4*np.random.random(200)\n",
    "y = (12-2*(x**2)) + x + np.random.normal(5,2,200)\n",
    "\n",
    "plt.scatter(x,y)"
   ]
  },
  {
   "cell_type": "code",
   "execution_count": null,
   "id": "dd808a6a",
   "metadata": {},
   "outputs": [],
   "source": []
  },
  {
   "cell_type": "code",
   "execution_count": null,
   "id": "77de600a",
   "metadata": {},
   "outputs": [],
   "source": []
  },
  {
   "cell_type": "code",
   "execution_count": 114,
   "id": "b8076d2d",
   "metadata": {},
   "outputs": [
    {
     "name": "stderr",
     "output_type": "stream",
     "text": [
      "/usr/local/lib/python3.9/site-packages/tensorflow/python/keras/optimizer_v2/optimizer_v2.py:374: UserWarning: The `lr` argument is deprecated, use `learning_rate` instead.\n",
      "  warnings.warn(\n"
     ]
    },
    {
     "name": "stdout",
     "output_type": "stream",
     "text": [
      "Epoch 1/50\n",
      "25/25 [==============================] - 0s 746us/step - loss: 111.5666\n",
      "Epoch 2/50\n",
      "25/25 [==============================] - 0s 605us/step - loss: 36.2746\n",
      "Epoch 3/50\n",
      "25/25 [==============================] - 0s 580us/step - loss: 10.5512\n",
      "Epoch 4/50\n",
      "25/25 [==============================] - 0s 577us/step - loss: 10.1086\n",
      "Epoch 5/50\n",
      "25/25 [==============================] - 0s 582us/step - loss: 7.9607\n",
      "Epoch 6/50\n",
      "25/25 [==============================] - 0s 550us/step - loss: 7.4930\n",
      "Epoch 7/50\n",
      "25/25 [==============================] - 0s 547us/step - loss: 8.0854\n",
      "Epoch 8/50\n",
      "25/25 [==============================] - 0s 571us/step - loss: 7.8585\n",
      "Epoch 9/50\n",
      "25/25 [==============================] - 0s 587us/step - loss: 5.8506\n",
      "Epoch 10/50\n",
      "25/25 [==============================] - 0s 578us/step - loss: 4.6222\n",
      "Epoch 11/50\n",
      "25/25 [==============================] - 0s 585us/step - loss: 5.1634\n",
      "Epoch 12/50\n",
      "25/25 [==============================] - 0s 579us/step - loss: 6.7713\n",
      "Epoch 13/50\n",
      "25/25 [==============================] - 0s 567us/step - loss: 6.4003\n",
      "Epoch 14/50\n",
      "25/25 [==============================] - 0s 571us/step - loss: 5.1012\n",
      "Epoch 15/50\n",
      "25/25 [==============================] - 0s 581us/step - loss: 5.9346\n",
      "Epoch 16/50\n",
      "25/25 [==============================] - 0s 586us/step - loss: 8.3125\n",
      "Epoch 17/50\n",
      "25/25 [==============================] - 0s 577us/step - loss: 8.8172\n",
      "Epoch 18/50\n",
      "25/25 [==============================] - 0s 571us/step - loss: 8.7373\n",
      "Epoch 19/50\n",
      "25/25 [==============================] - 0s 569us/step - loss: 5.9373\n",
      "Epoch 20/50\n",
      "25/25 [==============================] - 0s 595us/step - loss: 4.5381\n",
      "Epoch 21/50\n",
      "25/25 [==============================] - 0s 616us/step - loss: 5.8784\n",
      "Epoch 22/50\n",
      "25/25 [==============================] - 0s 578us/step - loss: 8.4068\n",
      "Epoch 23/50\n",
      "25/25 [==============================] - 0s 573us/step - loss: 5.0544\n",
      "Epoch 24/50\n",
      "25/25 [==============================] - 0s 572us/step - loss: 5.4091\n",
      "Epoch 25/50\n",
      "25/25 [==============================] - 0s 578us/step - loss: 4.6808\n",
      "Epoch 26/50\n",
      "25/25 [==============================] - 0s 582us/step - loss: 5.5480\n",
      "Epoch 27/50\n",
      "25/25 [==============================] - 0s 614us/step - loss: 4.5010\n",
      "Epoch 28/50\n",
      "25/25 [==============================] - 0s 623us/step - loss: 7.1383\n",
      "Epoch 29/50\n",
      "25/25 [==============================] - 0s 598us/step - loss: 5.5741\n",
      "Epoch 30/50\n",
      "25/25 [==============================] - 0s 611us/step - loss: 6.1971\n",
      "Epoch 31/50\n",
      "25/25 [==============================] - 0s 584us/step - loss: 5.2018\n",
      "Epoch 32/50\n",
      "25/25 [==============================] - 0s 591us/step - loss: 4.5909\n",
      "Epoch 33/50\n",
      "25/25 [==============================] - 0s 579us/step - loss: 4.3117\n",
      "Epoch 34/50\n",
      "25/25 [==============================] - 0s 557us/step - loss: 4.6894\n",
      "Epoch 35/50\n",
      "25/25 [==============================] - 0s 570us/step - loss: 5.1023\n",
      "Epoch 36/50\n",
      "25/25 [==============================] - 0s 601us/step - loss: 5.1933\n",
      "Epoch 37/50\n",
      "25/25 [==============================] - 0s 852us/step - loss: 5.4389\n",
      "Epoch 38/50\n",
      "25/25 [==============================] - 0s 741us/step - loss: 4.8237\n",
      "Epoch 39/50\n",
      "25/25 [==============================] - 0s 620us/step - loss: 9.2336\n",
      "Epoch 40/50\n",
      "25/25 [==============================] - 0s 584us/step - loss: 5.6596\n",
      "Epoch 41/50\n",
      "25/25 [==============================] - 0s 605us/step - loss: 4.7055\n",
      "Epoch 42/50\n",
      "25/25 [==============================] - 0s 583us/step - loss: 5.2582\n",
      "Epoch 43/50\n",
      "25/25 [==============================] - 0s 583us/step - loss: 5.2683\n",
      "Epoch 44/50\n",
      "25/25 [==============================] - 0s 597us/step - loss: 5.8717\n",
      "Epoch 45/50\n",
      "25/25 [==============================] - 0s 603us/step - loss: 5.3677\n",
      "Epoch 46/50\n",
      "25/25 [==============================] - 0s 839us/step - loss: 4.2966\n",
      "Epoch 47/50\n",
      "25/25 [==============================] - 0s 706us/step - loss: 4.5809\n",
      "Epoch 48/50\n",
      "25/25 [==============================] - 0s 605us/step - loss: 5.3241\n",
      "Epoch 49/50\n",
      "25/25 [==============================] - 0s 591us/step - loss: 5.1118\n",
      "Epoch 50/50\n",
      "25/25 [==============================] - 0s 593us/step - loss: 5.0208\n"
     ]
    },
    {
     "data": {
      "text/plain": [
       "[<matplotlib.lines.Line2D at 0x18184a280>]"
      ]
     },
     "execution_count": 114,
     "metadata": {},
     "output_type": "execute_result"
    },
    {
     "data": {
      "image/png": "[encoded data removed]",
      "text/plain": [
       "<Figure size 432x288 with 1 Axes>"
      ]
     },
     "metadata": {
      "needs_background": "light"
     },
     "output_type": "display_data"
    }
   ],
   "source": [
    "model = Sequential()\n",
    "\n",
    "input_layer = Dense(32,input_shape=[1],activation='relu')\n",
    "middle_layer = Dense(32,activation='relu')\n",
    "output_layer = Dense(1)\n",
    "\n",
    "model.add(input_layer)\n",
    "model.add(middle_layer)\n",
    "model.add(output_layer)\n",
    "\n",
    "model.compile(optimizer=keras.optimizers.Adam(lr=0.05), loss='mse')\n",
    "\n",
    "model.fit(x,y,epochs=50, steps_per_epoch=25)\n",
    "\n",
    "plt.scatter(x,y)\n",
    "x_space = np.linspace(0,4,200)\n",
    "plt.plot(x_space,model.predict(x_space),color='red',linewidth=5)"
   ]
  },
  {
   "cell_type": "code",
   "execution_count": 121,
   "id": "a827f686",
   "metadata": {},
   "outputs": [],
   "source": [
    "import numpy.polynomial.polynomial as poly"
   ]
  },
  {
   "cell_type": "code",
   "execution_count": 122,
   "id": "2c2cc043",
   "metadata": {},
   "outputs": [
    {
     "data": {
      "text/plain": [
       "array([17.09087831,  1.04750537, -1.99346331])"
      ]
     },
     "execution_count": 122,
     "metadata": {},
     "output_type": "execute_result"
    }
   ],
   "source": [
    "fx = poly.polyfit(x,y,2)"
   ]
  },
  {
   "cell_type": "code",
   "execution_count": 127,
   "id": "67ab0e41",
   "metadata": {},
   "outputs": [
    {
     "data": {
      "text/plain": [
       "[<matplotlib.lines.Line2D at 0x182020610>]"
      ]
     },
     "execution_count": 127,
     "metadata": {},
     "output_type": "execute_result"
    },
    {
     "data": {
      "image/png": "[encoded data removed]",
      "text/plain": [
       "<Figure size 432x288 with 1 Axes>"
      ]
     },
     "metadata": {
      "needs_background": "light"
     },
     "output_type": "display_data"
    }
   ],
   "source": [
    "y_hat = poly.polyval(x_space,fx)\n",
    "plt.scatter(x,y)\n",
    "plt.plot(x_space,y_hat,color='red',linewidth=4)"
   ]
  },
  {
   "cell_type": "code",
   "execution_count": null,
   "id": "698ddcf0",
   "metadata": {},
   "outputs": [],
   "source": []
  }
 ],
 "metadata": {
  "kernelspec": {
   "display_name": "Python 3",
   "language": "python",
   "name": "python3"
  },
  "language_info": {
   "codemirror_mode": {
    "name": "ipython",
    "version": 3
   },
   "file_extension": ".py",
   "mimetype": "text/x-python",
   "name": "python",
   "nbconvert_exporter": "python",
   "pygments_lexer": "ipython3",
   "version": "3.9.4"
  }
 },
 "nbformat": 4,
 "nbformat_minor": 5
}
